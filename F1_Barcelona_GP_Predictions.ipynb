{
  "nbformat": 4,
  "nbformat_minor": 0,
  "metadata": {
    "colab": {
      "provenance": [],
      "gpuType": "T4"
    },
    "kernelspec": {
      "name": "python3",
      "display_name": "Python 3"
    },
    "language_info": {
      "name": "python"
    },
    "accelerator": "GPU"
  },
  "cells": [
    {
      "cell_type": "code",
      "source": [
        "pip install fastf1"
      ],
      "metadata": {
        "colab": {
          "base_uri": "https://localhost:8080/"
        },
        "id": "2eTfdO1154FD",
        "outputId": "ddc691e7-c394-4d60-ef51-824c94513ade",
        "collapsed": true
      },
      "execution_count": 22,
      "outputs": [
        {
          "output_type": "stream",
          "name": "stdout",
          "text": [
            "Requirement already satisfied: fastf1 in /usr/local/lib/python3.11/dist-packages (3.5.3)\n",
            "Requirement already satisfied: matplotlib<4.0.0,>=3.5.1 in /usr/local/lib/python3.11/dist-packages (from fastf1) (3.10.0)\n",
            "Requirement already satisfied: numpy<3.0.0,>=1.23.1 in /usr/local/lib/python3.11/dist-packages (from fastf1) (2.0.2)\n",
            "Requirement already satisfied: pandas<3.0.0,>=1.4.1 in /usr/local/lib/python3.11/dist-packages (from fastf1) (2.2.2)\n",
            "Requirement already satisfied: python-dateutil in /usr/local/lib/python3.11/dist-packages (from fastf1) (2.9.0.post0)\n",
            "Requirement already satisfied: rapidfuzz in /usr/local/lib/python3.11/dist-packages (from fastf1) (3.13.0)\n",
            "Requirement already satisfied: requests-cache>=1.0.0 in /usr/local/lib/python3.11/dist-packages (from fastf1) (1.2.1)\n",
            "Requirement already satisfied: requests>=2.28.1 in /usr/local/lib/python3.11/dist-packages (from fastf1) (2.32.3)\n",
            "Requirement already satisfied: scipy<2.0.0,>=1.8.1 in /usr/local/lib/python3.11/dist-packages (from fastf1) (1.15.3)\n",
            "Requirement already satisfied: timple>=0.1.6 in /usr/local/lib/python3.11/dist-packages (from fastf1) (0.1.8)\n",
            "Requirement already satisfied: websockets<14,>=10.3 in /usr/local/lib/python3.11/dist-packages (from fastf1) (13.1)\n",
            "Requirement already satisfied: contourpy>=1.0.1 in /usr/local/lib/python3.11/dist-packages (from matplotlib<4.0.0,>=3.5.1->fastf1) (1.3.2)\n",
            "Requirement already satisfied: cycler>=0.10 in /usr/local/lib/python3.11/dist-packages (from matplotlib<4.0.0,>=3.5.1->fastf1) (0.12.1)\n",
            "Requirement already satisfied: fonttools>=4.22.0 in /usr/local/lib/python3.11/dist-packages (from matplotlib<4.0.0,>=3.5.1->fastf1) (4.58.0)\n",
            "Requirement already satisfied: kiwisolver>=1.3.1 in /usr/local/lib/python3.11/dist-packages (from matplotlib<4.0.0,>=3.5.1->fastf1) (1.4.8)\n",
            "Requirement already satisfied: packaging>=20.0 in /usr/local/lib/python3.11/dist-packages (from matplotlib<4.0.0,>=3.5.1->fastf1) (24.2)\n",
            "Requirement already satisfied: pillow>=8 in /usr/local/lib/python3.11/dist-packages (from matplotlib<4.0.0,>=3.5.1->fastf1) (11.2.1)\n",
            "Requirement already satisfied: pyparsing>=2.3.1 in /usr/local/lib/python3.11/dist-packages (from matplotlib<4.0.0,>=3.5.1->fastf1) (3.2.3)\n",
            "Requirement already satisfied: pytz>=2020.1 in /usr/local/lib/python3.11/dist-packages (from pandas<3.0.0,>=1.4.1->fastf1) (2025.2)\n",
            "Requirement already satisfied: tzdata>=2022.7 in /usr/local/lib/python3.11/dist-packages (from pandas<3.0.0,>=1.4.1->fastf1) (2025.2)\n",
            "Requirement already satisfied: six>=1.5 in /usr/local/lib/python3.11/dist-packages (from python-dateutil->fastf1) (1.17.0)\n",
            "Requirement already satisfied: charset-normalizer<4,>=2 in /usr/local/lib/python3.11/dist-packages (from requests>=2.28.1->fastf1) (3.4.2)\n",
            "Requirement already satisfied: idna<4,>=2.5 in /usr/local/lib/python3.11/dist-packages (from requests>=2.28.1->fastf1) (3.10)\n",
            "Requirement already satisfied: urllib3<3,>=1.21.1 in /usr/local/lib/python3.11/dist-packages (from requests>=2.28.1->fastf1) (2.4.0)\n",
            "Requirement already satisfied: certifi>=2017.4.17 in /usr/local/lib/python3.11/dist-packages (from requests>=2.28.1->fastf1) (2025.4.26)\n",
            "Requirement already satisfied: attrs>=21.2 in /usr/local/lib/python3.11/dist-packages (from requests-cache>=1.0.0->fastf1) (25.3.0)\n",
            "Requirement already satisfied: cattrs>=22.2 in /usr/local/lib/python3.11/dist-packages (from requests-cache>=1.0.0->fastf1) (25.1.0)\n",
            "Requirement already satisfied: platformdirs>=2.5 in /usr/local/lib/python3.11/dist-packages (from requests-cache>=1.0.0->fastf1) (4.3.8)\n",
            "Requirement already satisfied: url-normalize>=1.4 in /usr/local/lib/python3.11/dist-packages (from requests-cache>=1.0.0->fastf1) (2.2.1)\n",
            "Requirement already satisfied: typing-extensions>=4.12.2 in /usr/local/lib/python3.11/dist-packages (from cattrs>=22.2->requests-cache>=1.0.0->fastf1) (4.13.2)\n"
          ]
        }
      ]
    },
    {
      "cell_type": "code",
      "source": [
        "!pip install xgboost"
      ],
      "metadata": {
        "colab": {
          "base_uri": "https://localhost:8080/"
        },
        "id": "j4uDWbyb9PPh",
        "outputId": "d2fa311f-9938-4136-c85f-0a03d2dd564e",
        "collapsed": true
      },
      "execution_count": 23,
      "outputs": [
        {
          "output_type": "stream",
          "name": "stdout",
          "text": [
            "Requirement already satisfied: xgboost in /usr/local/lib/python3.11/dist-packages (2.1.4)\n",
            "Requirement already satisfied: numpy in /usr/local/lib/python3.11/dist-packages (from xgboost) (2.0.2)\n",
            "Requirement already satisfied: nvidia-nccl-cu12 in /usr/local/lib/python3.11/dist-packages (from xgboost) (2.21.5)\n",
            "Requirement already satisfied: scipy in /usr/local/lib/python3.11/dist-packages (from xgboost) (1.15.3)\n"
          ]
        }
      ]
    },
    {
      "cell_type": "code",
      "source": [
        "import fastf1\n",
        "import pandas as pd\n",
        "import numpy as np\n",
        "import requests\n",
        "from sklearn.model_selection import train_test_split\n",
        "from sklearn.ensemble import GradientBoostingRegressor\n",
        "from sklearn.metrics import mean_absolute_error\n",
        "import matplotlib.pyplot as plt\n",
        "from sklearn.impute import SimpleImputer\n",
        "from sklearn.preprocessing import StandardScaler\n",
        "from sklearn.linear_model import LinearRegression\n",
        "from xgboost import XGBRegressor\n",
        "from sklearn.svm import SVR\n",
        "from sklearn.neighbors import KNeighborsRegressor"
      ],
      "metadata": {
        "id": "6_eOCrLo5_xz"
      },
      "execution_count": 24,
      "outputs": []
    },
    {
      "cell_type": "code",
      "source": [
        "import os\n",
        "os.makedirs(\"f1_cache\", exist_ok=True)\n",
        "fastf1.Cache.enable_cache(\"f1_cache\")\n"
      ],
      "metadata": {
        "id": "DZzQnhSr6OXC"
      },
      "execution_count": 25,
      "outputs": []
    },
    {
      "cell_type": "code",
      "source": [
        "# load the 2024 Barcelona session data\n",
        "session_2024 = fastf1.get_session(2024, 10, \"R\")\n",
        "session_2024.load()\n",
        "laps_2024 = session_2024.laps[[\"Driver\", \"LapTime\", \"Sector1Time\", \"Sector2Time\", \"Sector3Time\"]].copy()\n",
        "laps_2024.dropna(inplace=True)\n"
      ],
      "metadata": {
        "colab": {
          "base_uri": "https://localhost:8080/"
        },
        "id": "1OQrswxm7jcK",
        "outputId": "5aba4af3-bc7f-4cd3-c98f-7c892ca6f3be",
        "collapsed": true
      },
      "execution_count": 26,
      "outputs": [
        {
          "output_type": "stream",
          "name": "stderr",
          "text": [
            "core           INFO \tLoading data for Spanish Grand Prix - Race [v3.5.3]\n",
            "INFO:fastf1.fastf1.core:Loading data for Spanish Grand Prix - Race [v3.5.3]\n",
            "req            INFO \tUsing cached data for session_info\n",
            "INFO:fastf1.fastf1.req:Using cached data for session_info\n",
            "req            INFO \tUsing cached data for driver_info\n",
            "INFO:fastf1.fastf1.req:Using cached data for driver_info\n",
            "req            INFO \tUsing cached data for session_status_data\n",
            "INFO:fastf1.fastf1.req:Using cached data for session_status_data\n",
            "req            INFO \tUsing cached data for lap_count\n",
            "INFO:fastf1.fastf1.req:Using cached data for lap_count\n",
            "req            INFO \tUsing cached data for track_status_data\n",
            "INFO:fastf1.fastf1.req:Using cached data for track_status_data\n",
            "req            INFO \tUsing cached data for _extended_timing_data\n",
            "INFO:fastf1.fastf1.req:Using cached data for _extended_timing_data\n",
            "req            INFO \tUsing cached data for timing_app_data\n",
            "INFO:fastf1.fastf1.req:Using cached data for timing_app_data\n",
            "core           INFO \tProcessing timing data...\n",
            "INFO:fastf1.fastf1.core:Processing timing data...\n",
            "req            INFO \tUsing cached data for car_data\n",
            "INFO:fastf1.fastf1.req:Using cached data for car_data\n",
            "req            INFO \tUsing cached data for position_data\n",
            "INFO:fastf1.fastf1.req:Using cached data for position_data\n",
            "req            INFO \tUsing cached data for weather_data\n",
            "INFO:fastf1.fastf1.req:Using cached data for weather_data\n",
            "req            INFO \tUsing cached data for race_control_messages\n",
            "INFO:fastf1.fastf1.req:Using cached data for race_control_messages\n",
            "core        WARNING \tDriver 1 completed the race distance 00:00.015000 before the recorded end of the session.\n",
            "WARNING:fastf1.fastf1.core:Driver 1 completed the race distance 00:00.015000 before the recorded end of the session.\n",
            "core           INFO \tFinished loading data for 20 drivers: ['1', '4', '44', '63', '16', '55', '81', '11', '10', '31', '27', '14', '24', '18', '3', '77', '20', '23', '22', '2']\n",
            "INFO:fastf1.fastf1.core:Finished loading data for 20 drivers: ['1', '4', '44', '63', '16', '55', '81', '11', '10', '31', '27', '14', '24', '18', '3', '77', '20', '23', '22', '2']\n"
          ]
        }
      ]
    },
    {
      "cell_type": "code",
      "source": [
        "# convert lap and sector times to seconds\n",
        "for col in [\"LapTime\", \"Sector1Time\", \"Sector2Time\", \"Sector3Time\"]:\n",
        "    laps_2024[f\"{col} (s)\"] = laps_2024[col].dt.total_seconds()"
      ],
      "metadata": {
        "id": "_Cbdl-_o7tMC"
      },
      "execution_count": 27,
      "outputs": []
    },
    {
      "cell_type": "code",
      "source": [
        "# aggregate sector times by driver\n",
        "sector_times_2024 = laps_2024.groupby(\"Driver\").agg({\n",
        "    \"Sector1Time (s)\": \"mean\",\n",
        "    \"Sector2Time (s)\": \"mean\",\n",
        "    \"Sector3Time (s)\": \"mean\"\n",
        "}).reset_index()\n",
        "\n",
        "sector_times_2024[\"TotalSectorTime (s)\"] = (\n",
        "    sector_times_2024[\"Sector1Time (s)\"] +\n",
        "    sector_times_2024[\"Sector2Time (s)\"] +\n",
        "    sector_times_2024[\"Sector3Time (s)\"]\n",
        ")"
      ],
      "metadata": {
        "id": "crzFc8g0750T"
      },
      "execution_count": 28,
      "outputs": []
    },
    {
      "cell_type": "code",
      "source": [
        "# quali data from Barcelona GP 2025\n",
        "qualifying_2025 = pd.DataFrame({\n",
        "    \"Driver\": [\"VER\", \"NOR\", \"PIA\", \"RUS\", \"SAI\", \"ALB\", \"LEC\", \"OCO\",\n",
        "               \"HAM\", \"STR\", \"GAS\", \"ALO\", \"HUL\"],\n",
        "    \"QualifyingTime (s)\": [\n",
        "        71.848,  # VER (1:11.848)\n",
        "        71.755,  # NOR (1:11.755)\n",
        "        71.546,  # PIA (1:11.546)\n",
        "        71.849,  # RUS (1:11.848)\n",
        "        73.203,  # SAI (1:13.203)\n",
        "        72.641,  # ALB (1:12.641)\n",
        "        72.131,  # LEC (1:12.131)\n",
        "        73.201,  # OCO (1:13.201)\n",
        "        72.045,  # HAM (1:12.045)\n",
        "        73.058,  # STR (1:13.058)\n",
        "        72.199,  # GAS (1:12.199)\n",
        "        72.284,  # ALO (1:12.284)\n",
        "        73.190   # HUL (1:13.190)\n",
        "    ]\n",
        "})"
      ],
      "metadata": {
        "id": "MjbIo8OT7_cS"
      },
      "execution_count": 29,
      "outputs": []
    },
    {
      "cell_type": "code",
      "source": [
        "# tire degradation calculation: calculate it by measuring how much lap times increase per lap on the same tire compound.\n",
        "# Degradation (s/lap) = (FinalLapTime - InitialLapTime) / (LapCount - 1)\n",
        "\n",
        "def calculate_tire_degradation(session):\n",
        "    \"\"\"Calculate median tire degradation per driver in seconds per lap\"\"\"\n",
        "    try:\n",
        "        laps = session_2024.laps.copy()\n",
        "        required_cols = ['LapTime', 'Stint', 'Compound', 'Driver']\n",
        "        if 'LapTimeSeconds' not in laps.columns:\n",
        "            laps = laps[pd.notnull(laps['LapTime'])]\n",
        "            laps['LapTimeSeconds'] = laps['LapTime'].dt.total_seconds()\n",
        "\n",
        "        valid_laps = laps[\n",
        "            (laps['Stint'].notna()) &\n",
        "            (laps['Compound'].notna()) &\n",
        "            (laps['LapTimeSeconds'].notna()) &\n",
        "            (laps['LapTimeSeconds'] > 60)\n",
        "        ].copy()\n",
        "\n",
        "        if valid_laps.empty:\n",
        "            print(\"No valid lap data found\")\n",
        "            return None\n",
        "\n",
        "        degradation = {}\n",
        "\n",
        "        for driver in valid_laps['Driver'].unique():\n",
        "            driver_laps = valid_laps[valid_laps['Driver'] == driver]\n",
        "            stints = driver_laps.groupby(['Stint', 'Compound'])\n",
        "            stint_degradations = []\n",
        "\n",
        "            for (stint, compound), stint_laps in stints:\n",
        "                if len(stint_laps) < 5:\n",
        "                    continue\n",
        "\n",
        "                stint_laps = stint_laps.sort_values('LapNumber')\n",
        "                stint_laps = stint_laps.reset_index(drop=True)\n",
        "                base_time = stint_laps.iloc[0]['LapTimeSeconds']\n",
        "                stint_laps['TimeDelta'] = stint_laps['LapTimeSeconds'] - base_time\n",
        "\n",
        "                if stint_laps['TimeDelta'].isna().any() or stint_laps['TimeDelta'].std() < 0.1:\n",
        "                    continue\n",
        "\n",
        "                # Linear Regression to get degradation rate\n",
        "                try:\n",
        "                    X = stint_laps.index.values.reshape(-1, 1)\n",
        "                    y = stint_laps['TimeDelta'].values\n",
        "\n",
        "                    if len(np.unique(y)) > 1:\n",
        "                        model = LinearRegression().fit(X, y)\n",
        "                        degradation_rate = model.coef_[0]\n",
        "\n",
        "                        if -0.5 < degradation_rate < 0.5:\n",
        "                            stint_degradations.append(degradation_rate)\n",
        "                except Exception as e:\n",
        "                    print(f\"Regression failed for {driver} stint {stint}: {str(e)}\")\n",
        "                    continue\n",
        "\n",
        "            if stint_degradations:\n",
        "                degradation[driver] = np.median(stint_degradations)\n",
        "\n",
        "        return degradation\n",
        "\n",
        "    except Exception as e:\n",
        "        print(f\"Error in degradation calculation: {str(e)}\")\n",
        "        return None\n",
        "\n",
        "driver_degradation = calculate_tire_degradation(session_2024)\n",
        "qualifying_2025[\"TireDegradation\"] = qualifying_2025[\"Driver\"].map(driver_degradation)\n"
      ],
      "metadata": {
        "id": "tMkoh-dorESg"
      },
      "execution_count": 30,
      "outputs": []
    },
    {
      "cell_type": "code",
      "source": [
        "# get weather data for spain\n",
        "API_KEY = \"e649b58b58905cd519de6ca5745071b4\"\n",
        "weather_url = f\"http://api.openweathermap.org/data/2.5/forecast?lat=41.3412&lon=2.1540&appid={API_KEY}&units=metric\"\n",
        "response = requests.get(weather_url)\n",
        "weather_data = response.json()\n",
        "forecast_time = \"2025-06-1 15:00:00\"\n",
        "forecast_data = next((f for f in weather_data[\"list\"] if f[\"dt_txt\"] == forecast_time), None)\n",
        "\n",
        "rain_probability = forecast_data[\"pop\"] if forecast_data else 0\n",
        "temperature = forecast_data[\"main\"][\"temp\"] if forecast_data else 20"
      ],
      "metadata": {
        "id": "CGknmGq89HIi"
      },
      "execution_count": 31,
      "outputs": []
    },
    {
      "cell_type": "code",
      "source": [
        "# adjust qualifying time based on weather conditions\n",
        "if rain_probability >= 0.75:\n",
        "    qualifying_2025[\"QualifyingTime\"] = qualifying_2025[\"QualifyingTime (s)\"] * qualifying_2025[\"WetPerformanceFactor\"]\n",
        "else:\n",
        "    qualifying_2025[\"QualifyingTime\"] = qualifying_2025[\"QualifyingTime (s)\"]\n"
      ],
      "metadata": {
        "id": "pn-b4RE1AN-7"
      },
      "execution_count": 32,
      "outputs": []
    },
    {
      "cell_type": "code",
      "source": [
        "# add constructor's data 2025:\n",
        "team_points = {\n",
        "    \"McLaren\": 319, \"Mercedes\": 147, \"Red Bull\": 143, \"Williams\": 54, \"Ferrari\": 142,\n",
        "    \"Haas\": 26, \"Aston Martin\": 14, \"Kick Sauber\": 6, \"Racing Bulls\": 22, \"Alpine\": 7\n",
        "}\n",
        "max_points = max(team_points.values())\n",
        "team_performance_score = {team: points / max_points for team, points in team_points.items()}\n",
        "\n",
        "driver_to_team = {\n",
        "    \"VER\": \"Red Bull\", \"NOR\": \"McLaren\", \"PIA\": \"McLaren\", \"LEC\": \"Ferrari\", \"RUS\": \"Mercedes\",\n",
        "    \"HAM\": \"Ferrari\", \"GAS\": \"Alpine\", \"ALO\": \"Aston Martin\", \"ALB\": \"Williams\",\n",
        "    \"SAI\": \"Williams\", \"HUL\": \"Kick Sauber\", \"OCO\": \"Alpine\", \"STR\": \"Aston Martin\"\n",
        "}\n",
        "\n",
        "qualifying_2025[\"Team\"] = qualifying_2025[\"Driver\"].map(driver_to_team)\n",
        "qualifying_2025[\"TeamPerformanceScore\"] = qualifying_2025[\"Team\"].map(team_performance_score)"
      ],
      "metadata": {
        "id": "dAvMrvhfBVz_"
      },
      "execution_count": 33,
      "outputs": []
    },
    {
      "cell_type": "code",
      "source": [
        "recent_form = {\n",
        "    \"VER\": 17.000,   # Max Verstappen\n",
        "    \"NOR\": 19.750,   # Lando Norris\n",
        "    \"PIA\": 20.125,   # Oscar Piastri\n",
        "    \"RUS\": 12.375,   # George Russell\n",
        "    \"SAI\": 01.500,   # Carlos Sainz\n",
        "    \"ALB\": 05.250,   # Alex Albon\n",
        "    \"LEC\": 09.875,   # Charles Leclerc\n",
        "    \"OCO\": 02.500,   # Esteban Ocon\n",
        "    \"HAM\": 07.875,   # Lewis Hamilton\n",
        "    \"STR\": 01.750,   # Lance Stroll\n",
        "    \"GAS\": 01.750,   # Pierre Gasly\n",
        "    \"ALO\": 00.000,   # Fernando Alonso\n",
        "    \"HUL\": 00.750    # Nico Hulkenberg\n",
        "}\n",
        "scaler = StandardScaler()\n",
        "qualifying_2025[\"RecentForm\"] = qualifying_2025[\"Driver\"].map(recent_form)\n",
        "qualifying_2025[\"RecentForm\"] = scaler.fit_transform(qualifying_2025[[\"RecentForm\"]])"
      ],
      "metadata": {
        "id": "xinTlnRTgqAE"
      },
      "execution_count": 34,
      "outputs": []
    },
    {
      "cell_type": "code",
      "source": [
        "# merge qualifying and sector times data\n",
        "merged_data = qualifying_2025.merge(sector_times_2024[[\"Driver\", \"TotalSectorTime (s)\"]], on=\"Driver\", how=\"left\")\n",
        "merged_data[\"RainProbability\"] = rain_probability\n",
        "merged_data[\"Temperature\"] = temperature\n",
        "merged_data[\"QualifyingTime\"] = merged_data[\"QualifyingTime\"]\n",
        "merged_data[\"TireDegradation\"] = merged_data[\"Driver\"].map(driver_degradation)\n",
        "merged_data[\"RecentForm\"] = merged_data[\"Driver\"].map(recent_form)\n",
        "\n",
        "\n",
        "valid_drivers = merged_data[\"Driver\"].isin(laps_2024[\"Driver\"].unique())\n",
        "merged_data = merged_data[valid_drivers]"
      ],
      "metadata": {
        "id": "4ohpDkH-Bcj1"
      },
      "execution_count": 35,
      "outputs": []
    },
    {
      "cell_type": "code",
      "source": [
        "# define features (X) and target (y)\n",
        "X = merged_data[[\n",
        "    \"QualifyingTime\", \"RainProbability\", \"Temperature\", \"TeamPerformanceScore\", \"RecentForm\", \"TireDegradation\",\n",
        "]]\n",
        "y = laps_2024.groupby(\"Driver\")[\"LapTime (s)\"].mean().reindex(merged_data[\"Driver\"])\n",
        "print(X)\n"
      ],
      "metadata": {
        "id": "36fX2oOvBeuu",
        "colab": {
          "base_uri": "https://localhost:8080/"
        },
        "outputId": "41aa58b1-26d6-46aa-f005-89070e8aa89f"
      },
      "execution_count": 36,
      "outputs": [
        {
          "output_type": "stream",
          "name": "stdout",
          "text": [
            "    QualifyingTime  RainProbability  Temperature  TeamPerformanceScore  \\\n",
            "0           71.848                0           20              0.448276   \n",
            "1           71.755                0           20              1.000000   \n",
            "2           71.546                0           20              1.000000   \n",
            "3           71.849                0           20              0.460815   \n",
            "4           73.203                0           20              0.169279   \n",
            "5           72.641                0           20              0.169279   \n",
            "6           72.131                0           20              0.445141   \n",
            "7           73.201                0           20              0.021944   \n",
            "8           72.045                0           20              0.445141   \n",
            "9           73.058                0           20              0.043887   \n",
            "10          72.199                0           20              0.021944   \n",
            "11          72.284                0           20              0.043887   \n",
            "12          73.190                0           20              0.018809   \n",
            "\n",
            "    RecentForm  TireDegradation  \n",
            "0       17.000        -0.106330  \n",
            "1       19.750        -0.158759  \n",
            "2       20.125        -0.139389  \n",
            "3       12.375        -0.116855  \n",
            "4        1.500        -0.110054  \n",
            "5        5.250        -0.097933  \n",
            "6        9.875        -0.134847  \n",
            "7        2.500        -0.076881  \n",
            "8        7.875        -0.104546  \n",
            "9        1.750        -0.150132  \n",
            "10       1.750        -0.113167  \n",
            "11       0.000        -0.126906  \n",
            "12       0.750        -0.124875  \n"
          ]
        }
      ]
    },
    {
      "cell_type": "code",
      "source": [
        "# impute missing values for features\n",
        "imputer = SimpleImputer(strategy=\"median\")\n",
        "X_imputed = imputer.fit_transform(X)\n",
        "\n",
        "# train-test split\n",
        "X_train, X_test, y_train, y_test = train_test_split(X_imputed, y, test_size=0.3, random_state=999)\n"
      ],
      "metadata": {
        "id": "whwe5hr0Bj72"
      },
      "execution_count": 37,
      "outputs": []
    },
    {
      "cell_type": "code",
      "source": [
        "# train svr model\n",
        "model1 = SVR(\n",
        "        kernel='rbf',\n",
        "        C=1.5,\n",
        "        epsilon=0.1\n",
        "    )\n",
        "model1.fit(X_train, y_train)\n",
        "merged_data[\"PredictedRaceTime SVR (s)\"] = model1.predict(X_imputed)\n",
        "\n",
        "# sort the results to find the predicted winner\n",
        "final_results = merged_data.sort_values(\"PredictedRaceTime SVR (s)\")\n",
        "print(\"\\n🏁 Predicted 2025 Barcelona GP Winner 🏁\\n\")\n",
        "print(final_results[[\"Driver\", \"PredictedRaceTime SVR (s)\"]])\n",
        "y_pred = model1.predict(X_test)\n",
        "print(f\"Model Error (MAE): {mean_absolute_error(y_test, y_pred):.2f} seconds\")\n"
      ],
      "metadata": {
        "id": "15kV9wYOBnJu",
        "colab": {
          "base_uri": "https://localhost:8080/"
        },
        "outputId": "fd1aa0aa-33e6-4304-dbb9-c56db814deef"
      },
      "execution_count": 38,
      "outputs": [
        {
          "output_type": "stream",
          "name": "stdout",
          "text": [
            "\n",
            "🏁 Predicted 2025 Barcelona GP Winner 🏁\n",
            "\n",
            "   Driver  PredictedRaceTime SVR (s)\n",
            "2     PIA                  80.522119\n",
            "1     NOR                  80.534406\n",
            "0     VER                  80.622887\n",
            "3     RUS                  80.775829\n",
            "6     LEC                  80.861195\n",
            "8     HAM                  80.928638\n",
            "5     ALB                  81.019499\n",
            "7     OCO                  81.112774\n",
            "10    GAS                  81.133986\n",
            "9     STR                  81.136771\n",
            "4     SAI                  81.145174\n",
            "12    HUL                  81.169571\n",
            "11    ALO                  81.190591\n",
            "Model Error (MAE): 0.33 seconds\n"
          ]
        }
      ]
    },
    {
      "cell_type": "code",
      "source": [
        "# train knn model\n",
        "model2 = KNeighborsRegressor(\n",
        "        n_neighbors=3,\n",
        "        weights='distance'\n",
        "    )\n",
        "model2.fit(X_train, y_train)\n",
        "merged_data[\"PredictedRaceTime KNN (s)\"] = model2.predict(X_imputed)\n",
        "\n",
        "# sort the results to find the predicted winner\n",
        "final_results = merged_data.sort_values(\"PredictedRaceTime KNN (s)\")\n",
        "print(\"\\n🏁 Predicted 2025 Barcelona GP Winner 🏁\\n\")\n",
        "print(final_results[[\"Driver\", \"PredictedRaceTime KNN (s)\"]])\n",
        "y_pred = model2.predict(X_test)\n",
        "print(f\"Model Error (MAE): {mean_absolute_error(y_test, y_pred):.2f} seconds\")"
      ],
      "metadata": {
        "colab": {
          "base_uri": "https://localhost:8080/"
        },
        "id": "ztoWdBEHBpPK",
        "outputId": "d95f52ae-b142-486b-f0f5-48f2d24f3ae3"
      },
      "execution_count": 39,
      "outputs": [
        {
          "output_type": "stream",
          "name": "stdout",
          "text": [
            "\n",
            "🏁 Predicted 2025 Barcelona GP Winner 🏁\n",
            "\n",
            "   Driver  PredictedRaceTime KNN (s)\n",
            "0     VER                  80.262169\n",
            "1     NOR                  80.284508\n",
            "2     PIA                  80.297330\n",
            "8     HAM                  80.516554\n",
            "3     RUS                  80.615062\n",
            "6     LEC                  80.887735\n",
            "10    GAS                  81.164123\n",
            "7     OCO                  81.302400\n",
            "12    HUL                  81.330338\n",
            "11    ALO                  81.410647\n",
            "4     SAI                  81.602978\n",
            "9     STR                  81.810516\n",
            "5     ALB                  82.257125\n",
            "Model Error (MAE): 0.45 seconds\n"
          ]
        }
      ]
    },
    {
      "cell_type": "code",
      "source": [
        "# train gradient boosting regressor model\n",
        "model3 = XGBRegressor(\n",
        "        n_estimators=300,\n",
        "        max_depth=5,\n",
        "        learning_rate=0.03,\n",
        "        subsample=0.8,  # prevent overfitting\n",
        "        colsample_bytree=0.7,\n",
        "        reg_alpha=0.5,\n",
        "        random_state=999\n",
        "    )\n",
        "model3.fit(X_train, y_train)\n",
        "merged_data[\"PredictedRaceTime XGB (s)\"] = model3.predict(X_imputed)\n",
        "\n",
        "# sort the results to find the predicted winner\n",
        "final_results = merged_data.sort_values(\"PredictedRaceTime XGB (s)\")\n",
        "print(\"\\n🏁 Predicted 2025 Barcelona GP Winner 🏁\\n\")\n",
        "print(final_results[[\"Driver\", \"PredictedRaceTime XGB (s)\"]])\n",
        "y_pred = model3.predict(X_test)\n",
        "print(f\"Model Error (MAE): {mean_absolute_error(y_test, y_pred):.2f} seconds\")"
      ],
      "metadata": {
        "colab": {
          "base_uri": "https://localhost:8080/"
        },
        "id": "5AVflrU_BUs_",
        "outputId": "780b11ae-4905-43c5-be34-ddf65985c1e0"
      },
      "execution_count": 40,
      "outputs": [
        {
          "output_type": "stream",
          "name": "stdout",
          "text": [
            "\n",
            "🏁 Predicted 2025 Barcelona GP Winner 🏁\n",
            "\n",
            "   Driver  PredictedRaceTime XGB (s)\n",
            "1     NOR                  80.516975\n",
            "2     PIA                  80.516975\n",
            "0     VER                  80.522179\n",
            "3     RUS                  80.550392\n",
            "6     LEC                  80.605904\n",
            "8     HAM                  80.608124\n",
            "10    GAS                  81.188385\n",
            "7     OCO                  81.299088\n",
            "12    HUL                  81.326630\n",
            "11    ALO                  81.395180\n",
            "4     SAI                  81.472336\n",
            "5     ALB                  81.770714\n",
            "9     STR                  81.772346\n",
            "Model Error (MAE): 0.30 seconds\n"
          ]
        }
      ]
    },
    {
      "cell_type": "code",
      "source": [
        "# Plot feature importances\n",
        "feature_importance = model3.feature_importances_\n",
        "features = X.columns\n",
        "plt.figure(figsize=(8,5))\n",
        "plt.barh(features, feature_importance, color='orange')\n",
        "plt.xlabel(\"Importance\")\n",
        "plt.title(\"Feature Importance in Race Time Prediction\")\n",
        "plt.tight_layout()\n",
        "plt.show()"
      ],
      "metadata": {
        "id": "v5Z5xQqfBra2",
        "colab": {
          "base_uri": "https://localhost:8080/",
          "height": 507
        },
        "outputId": "dbdfd2f9-14dc-4397-8fd4-c1cd092aa30e"
      },
      "execution_count": 41,
      "outputs": [
        {
          "output_type": "display_data",
          "data": {
            "text/plain": [
              "<Figure size 800x500 with 1 Axes>"
            ],
            "image/png": "[encoded data removed]"
          },
          "metadata": {}
        }
      ]
    },
    {
      "cell_type": "code",
      "source": [
        "# sort results and get top 3\n",
        "final_results = merged_data.sort_values(\"PredictedRaceTime SVR (s)\").reset_index(drop=True)\n",
        "podium = final_results.loc[:4, [\"Driver\", \"PredictedRaceTime SVR (s)\"]]\n",
        "\n",
        "print(\"\\n🏆 Predicted in the Top 3 🏆\")\n",
        "print(f\"🥇 P1: {podium.iloc[0]['Driver']}\")\n",
        "print(f\"🥈 P2: {podium.iloc[1]['Driver']}\")\n",
        "print(f\"🥉 P3: {podium.iloc[2]['Driver']}\")\n"
      ],
      "metadata": {
        "colab": {
          "base_uri": "https://localhost:8080/"
        },
        "id": "JxnAYN8jBy0S",
        "outputId": "75c67ef4-901c-4c65-de79-2c7f7dd53768"
      },
      "execution_count": 42,
      "outputs": [
        {
          "output_type": "stream",
          "name": "stdout",
          "text": [
            "\n",
            "🏆 Predicted in the Top 3 🏆\n",
            "🥇 P1: PIA\n",
            "🥈 P2: NOR\n",
            "🥉 P3: VER\n"
          ]
        }
      ]
    },
    {
      "cell_type": "code",
      "source": [
        "\"\"\"\n",
        "The predictions generated by the SVR model closely mirrored the actual race results, with the top 5 drivers predicted by the model (PIA, NOR, VER, RUS, LEC) matching the final top 5 finishers.\n",
        "However, one significant exception was Max Verstappen, who was initially predicted to finish P5. Due to a 10-second time penalty incurred during the race,\n",
        "his final standing dropped to P10, highlighting how unforeseen race-day events can influence outcomes beyond the model's scope.\n",
        "\n",
        "This code is inspired by Mariana Antaya\n",
        "\"\"\""
      ],
      "metadata": {
        "id": "abt_31_HV9fP",
        "colab": {
          "base_uri": "https://localhost:8080/",
          "height": 70
        },
        "collapsed": true,
        "outputId": "6327e236-a353-426b-d2ee-358bbe50426a"
      },
      "execution_count": 43,
      "outputs": [
        {
          "output_type": "execute_result",
          "data": {
            "text/plain": [
              "\"\\nThe predictions generated by the SVR model closely mirrored the actual race results, with the top 5 drivers predicted by the model (PIA, NOR, VER, RUS, LEC) matching the final top 5 finishers. \\nHowever, one significant exception was Max Verstappen, who was initially predicted to finish P5. Due to a 10-second time penalty incurred during the race, \\nhis final standing dropped to P10, highlighting how unforeseen race-day events can influence outcomes beyond the model's scope.\\n\\nThis code is inspired by Mariana Antaya\\n\""
            ],
            "application/vnd.google.colaboratory.intrinsic+json": {
              "type": "string"
            }
          },
          "metadata": {},
          "execution_count": 43
        }
      ]
    }
  ]
}